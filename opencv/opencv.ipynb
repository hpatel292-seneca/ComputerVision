{
 "cells": [
  {
   "cell_type": "code",
   "execution_count": 1,
   "id": "5c427874-77b3-4590-9061-f49c384776a6",
   "metadata": {},
   "outputs": [],
   "source": [
    "import numpy\n",
    "import matplotlib"
   ]
  },
  {
   "cell_type": "code",
   "execution_count": 2,
   "id": "51ce0bcc-f360-439e-aeb0-6ddc0087cde5",
   "metadata": {},
   "outputs": [],
   "source": [
    "import cv2 as cv"
   ]
  },
  {
   "cell_type": "markdown",
   "id": "4444bc17-8b30-4b4b-ad40-1262bb4d258d",
   "metadata": {},
   "source": [
    "### 1. **Basic Image Processing**\n",
    "   - **Reading Images**: `cv2.imread()`\n",
    "   - **Displaying Images**: `cv2.imshow()`\n",
    "   - **Saving Images**: `cv2.imwrite()`\n",
    "   - **Resizing Images**: `cv2.resize()`\n",
    "   - **Cropping Images**: Slicing of NumPy array (e.g., `image[y:y+h, x:x+w]`)\n",
    "   - **Rotating Images**: `cv2.getRotationMatrix2D()`\n",
    "   - **Flipping Images**: `cv2.flip()`\n",
    "   - **Color Conversions**: `cv2.cvtColor()` (e.g., BGR to grayscale, HSV, etc.)\n",
    "   - **Image Blurring/Smoothing**: `cv2.GaussianBlur()`, `cv2.medianBlur()`, `cv2.bilateralFilter()`\n",
    "   - **Image Thresholding**: `cv2.threshold()`, `cv2.adaptiveThreshold()`"
   ]
  },
  {
   "cell_type": "code",
   "execution_count": 10,
   "id": "420ecb40-6273-42fe-a57b-cf79bc4cb828",
   "metadata": {},
   "outputs": [],
   "source": [
    "image=cv.imread(r\"./Pizza.jpg\")\n",
    "\n",
    "# Create a window for showing the image\n",
    "cv.namedWindow(\"Pizza\", cv.WINDOW_NORMAL)\n",
    "\n",
    "# Resize the window to desired width and height\n",
    "cv.resizeWindow('Pizza', 400, 300)\n",
    "\n",
    "# using imshow() to display image\n",
    "cv.imshow('Pizza', image)\n",
    "\n",
    "# Waiting 0ms for user to press any key\n",
    "cv.waitKey(0)\n",
    "# Using cv2.destroyAllWindows() to destroy all created windows\n",
    "cv.destroyAllWindows()"
   ]
  },
  {
   "cell_type": "code",
   "execution_count": 4,
   "id": "f7436883-c146-449f-b41f-e9a20976f98a",
   "metadata": {},
   "outputs": [
    {
     "name": "stdout",
     "output_type": "stream",
     "text": [
      "Original Dimensions :  (1707, 2560, 3)\n"
     ]
    }
   ],
   "source": [
    "# Saving Images\n",
    "print('Original Dimensions : ',image.shape)\n"
   ]
  },
  {
   "cell_type": "code",
   "execution_count": 13,
   "id": "10ee0344-0e7e-4d51-88e4-2b53f7a6c2a9",
   "metadata": {},
   "outputs": [
    {
     "name": "stdout",
     "output_type": "stream",
     "text": [
      "Resized Dimension :  (1024, 1536, 3)\n"
     ]
    }
   ],
   "source": [
    "scale=60\n",
    "width=int(image.shape[1]*scale/100)\n",
    "height=int(image.shape[0]*scale/100)\n",
    "dimensions=(width, height)\n",
    "\n",
    "#Resize image\n",
    "resized=cv.resize(image, dimensions, interpolation=cv.INTER_AREA)\n",
    "print('Resized Dimension : ',resized.shape)\n",
    "\n",
    "# Create a window for showing the image\n",
    "cv.namedWindow(\"Pizza2\", cv.WINDOW_NORMAL)\n",
    "\n",
    "# Resize the window to desired width and height\n",
    "cv.resizeWindow('Pizza2', 400, 300)\n",
    "\n",
    "# using imshow() to display image\n",
    "cv.imshow('Pizza2', resized)\n",
    "# Waiting 0ms for user to press any key\n",
    "cv.waitKey(0)\n",
    "# Using cv2.destroyAllWindows() to destroy all created windows\n",
    "cv.destroyAllWindows()\n"
   ]
  },
  {
   "cell_type": "markdown",
   "id": "8d989a8d-e842-4418-be4e-5dfa1e6a56b0",
   "metadata": {},
   "source": [
    "### 2. **Video Processing**\n",
    "   - **Capture Video from Camera**: `cv2.VideoCapture()`\n",
    "   - **Save Video**: `cv2.VideoWriter()`\n",
    "   - **Reading Frames from a Video**: `cap.read()`\n",
    "   - **Frame-by-frame Image Processing**: Loop through frames and apply functions (e.g., edge detection, blurring)\n",
    "   - **Background Subtraction**: `cv2.createBackgroundSubtractorMOG2()`\n"
   ]
  },
  {
   "cell_type": "code",
   "execution_count": 16,
   "id": "8ac591ca-accd-4c5f-8175-35a9be9425f3",
   "metadata": {},
   "outputs": [],
   "source": [
    "webcam=cv.VideoCapture(1)\n",
    "\n",
    "stop=False\n",
    "\n",
    "# Background Substractionq\n",
    "fgbg = cv.createBackgroundSubtractorMOG2()\n",
    "while stop==False:\n",
    "    ret, frame=webcam.read()\n",
    "\n",
    "    if ret:\n",
    "        fgmask=fgbg.apply(frame)\n",
    "        cv.imshow('Pizza', fgmask)\n",
    "        key=cv.waitKey(1)\n",
    "        if key==ord(\"q\"):\n",
    "            stop=True\n",
    "\n",
    "webcam.release()\n",
    "cv.destroyAllWindows()"
   ]
  }
 ],
 "metadata": {
  "kernelspec": {
   "display_name": "Python 3 (ipykernel)",
   "language": "python",
   "name": "python3"
  },
  "language_info": {
   "codemirror_mode": {
    "name": "ipython",
    "version": 3
   },
   "file_extension": ".py",
   "mimetype": "text/x-python",
   "name": "python",
   "nbconvert_exporter": "python",
   "pygments_lexer": "ipython3",
   "version": "3.8.5"
  }
 },
 "nbformat": 4,
 "nbformat_minor": 5
}
